{
 "cells": [
  {
   "cell_type": "markdown",
   "metadata": {},
   "source": [
    "Please note that the following code is taken from the book \"Deep Learning With Python (2nd ed.)\" without modifications to accommodate the lectures on \"Introduction to Machine Learning\", which is a part of the course CSI4106 \"Introduction to Artificial Intelligence\" taught in Winter 2022.\n",
    "\n",
    "Chollet, F. (2021). Deep Learning With Python (2nd ed.). Manning Publications.\n",
    "\n",
    "Please do not redistribute the code."
   ]
  },
  {
   "cell_type": "code",
   "execution_count": 22,
   "metadata": {},
   "outputs": [
    {
     "data": {
      "text/plain": [
       "Reusing TensorBoard on port 6006 (pid 78548), started 5:20:36 ago. (Use '!kill 78548' to kill it.)"
      ]
     },
     "metadata": {},
     "output_type": "display_data"
    },
    {
     "data": {
      "text/html": [
       "\n",
       "      <iframe id=\"tensorboard-frame-426b512df8c2d364\" width=\"100%\" height=\"800\" frameborder=\"0\">\n",
       "      </iframe>\n",
       "      <script>\n",
       "        (function() {\n",
       "          const frame = document.getElementById(\"tensorboard-frame-426b512df8c2d364\");\n",
       "          const url = new URL(\"http://localhost\");\n",
       "          const port = 6006;\n",
       "          if (port) {\n",
       "            url.port = port;\n",
       "          }\n",
       "          frame.src = url;\n",
       "        })();\n",
       "      </script>\n",
       "    "
      ],
      "text/plain": [
       "<IPython.core.display.HTML object>"
      ]
     },
     "metadata": {},
     "output_type": "display_data"
    }
   ],
   "source": [
    "import pandas as pd\n",
    "import numpy as np\n",
    "from tensorflow import keras\n",
    "from tensorflow.keras import layers\n",
    "from tensorflow.keras.datasets import mnist\n",
    "import os\n",
    "import datetime\n",
    "\n",
    "%reload_ext tensorboard\n",
    "%tensorboard --logdir logs"
   ]
  },
  {
   "cell_type": "code",
   "execution_count": 23,
   "metadata": {},
   "outputs": [
    {
     "name": "stdout",
     "output_type": "stream",
     "text": [
      "Model: \"model_5\"\n",
      "_________________________________________________________________\n",
      "Layer (type)                 Output Shape              Param #   \n",
      "=================================================================\n",
      "input_6 (InputLayer)         [(None, 28, 28, 1)]       0         \n",
      "_________________________________________________________________\n",
      "conv2d_15 (Conv2D)           (None, 26, 26, 32)        320       \n",
      "_________________________________________________________________\n",
      "max_pooling2d_10 (MaxPooling (None, 13, 13, 32)        0         \n",
      "_________________________________________________________________\n",
      "conv2d_16 (Conv2D)           (None, 11, 11, 64)        18496     \n",
      "_________________________________________________________________\n",
      "max_pooling2d_11 (MaxPooling (None, 5, 5, 64)          0         \n",
      "_________________________________________________________________\n",
      "conv2d_17 (Conv2D)           (None, 3, 3, 128)         73856     \n",
      "_________________________________________________________________\n",
      "flatten_5 (Flatten)          (None, 1152)              0         \n",
      "_________________________________________________________________\n",
      "dense_5 (Dense)              (None, 10)                11530     \n",
      "=================================================================\n",
      "Total params: 104,202\n",
      "Trainable params: 104,202\n",
      "Non-trainable params: 0\n",
      "_________________________________________________________________\n"
     ]
    }
   ],
   "source": [
    "inputs = keras.Input(shape=(28, 28, 1)) \n",
    "x = layers.Conv2D(filters=32, kernel_size=3, activation=\"relu\")(inputs) \n",
    "x = layers.MaxPooling2D(pool_size=2)(x) \n",
    "x = layers.Conv2D(filters=64, kernel_size=3, activation=\"relu\")(x) \n",
    "x = layers.MaxPooling2D(pool_size=2)(x) \n",
    "x = layers.Conv2D(filters=128, kernel_size=3, activation=\"relu\")(x) \n",
    "x = layers.Flatten()(x)\n",
    "outputs = layers.Dense(10, activation=\"softmax\")(x) \n",
    "model = keras.Model(inputs=inputs, outputs=outputs)\n",
    "\n",
    "model.summary()\n",
    "\n",
    "# padding calculations\n",
    "# n: image dimension\n",
    "# f: filter size\n",
    "# p: padding size\n",
    "# valid padding -> n - f + 1\n",
    "# same padding -> n + 2p - f + 1"
   ]
  },
  {
   "cell_type": "code",
   "execution_count": 24,
   "metadata": {},
   "outputs": [
    {
     "name": "stdout",
     "output_type": "stream",
     "text": [
      "[[[0.45087596 0.0046847  0.9264323  ... 0.4521996  0.38673903 0.74936778]\n",
      "  [0.69799005 0.40796137 0.1780329  ... 0.3274054  0.14383865 0.67132004]\n",
      "  [0.78822305 0.60599902 0.67265502 ... 0.82506488 0.52205215 0.78623995]\n",
      "  ...\n",
      "  [0.34727419 0.40990477 0.69379104 ... 0.8432671  0.72062239 0.89038068]\n",
      "  [0.36520138 0.33202647 0.08047898 ... 0.8076438  0.53903347 0.32920219]\n",
      "  [0.10923562 0.8516995  0.27886191 ... 0.83192667 0.43480144 0.72537666]]\n",
      "\n",
      " [[0.62741201 0.69391279 0.58905078 ... 0.08954091 0.19410649 0.34113508]\n",
      "  [0.27238047 0.46633361 0.22637701 ... 0.25662755 0.2195154  0.17279956]\n",
      "  [0.60311187 0.74123559 0.93843873 ... 0.43422103 0.88574972 0.57497789]\n",
      "  ...\n",
      "  [0.54956457 0.44188399 0.7888398  ... 0.57340041 0.39595431 0.21888415]\n",
      "  [0.22465213 0.8170778  0.82347829 ... 0.87336224 0.46485136 0.86146801]\n",
      "  [0.21950396 0.2429692  0.05673666 ... 0.2204199  0.99197829 0.48315353]]\n",
      "\n",
      " [[0.64220805 0.85077874 0.7934381  ... 0.73605073 0.92820505 0.39847108]\n",
      "  [0.28641034 0.97815652 0.03109817 ... 0.47962797 0.6493937  0.5463783 ]\n",
      "  [0.72504733 0.31598631 0.62624187 ... 0.50127278 0.26687635 0.09658469]\n",
      "  ...\n",
      "  [0.07454889 0.09114626 0.68214028 ... 0.20279496 0.5361914  0.18947958]\n",
      "  [0.9356212  0.19698782 0.45944782 ... 0.83084303 0.71965964 0.93276579]\n",
      "  [0.58481784 0.99404476 0.84072311 ... 0.02619188 0.83648928 0.40580677]]\n",
      "\n",
      " ...\n",
      "\n",
      " [[0.31436571 0.29814753 0.63733456 ... 0.07693187 0.76474437 0.08746897]\n",
      "  [0.03480563 0.08327035 0.68354829 ... 0.22168298 0.22686046 0.0066895 ]\n",
      "  [0.68914363 0.74679624 0.946278   ... 0.65490458 0.40861923 0.44393217]\n",
      "  ...\n",
      "  [0.98734912 0.95742238 0.73344501 ... 0.49141128 0.25231931 0.14146125]\n",
      "  [0.55255345 0.64123355 0.69933381 ... 0.98477225 0.2367543  0.6991103 ]\n",
      "  [0.62450217 0.68895357 0.60614474 ... 0.32117559 0.18056237 0.77249571]]\n",
      "\n",
      " [[0.9722327  0.63255309 0.08031287 ... 0.10112942 0.57731285 0.42046506]\n",
      "  [0.02306635 0.69432226 0.21413996 ... 0.13760717 0.67098931 0.92135652]\n",
      "  [0.18941269 0.19641721 0.12453487 ... 0.66598206 0.69043645 0.68598337]\n",
      "  ...\n",
      "  [0.6459035  0.49256559 0.55932938 ... 0.42150375 0.88663923 0.14799604]\n",
      "  [0.19490447 0.41585572 0.51777365 ... 0.04796201 0.68162343 0.44462456]\n",
      "  [0.98243626 0.01048587 0.25924056 ... 0.03080111 0.59717952 0.51325754]]\n",
      "\n",
      " [[0.8656307  0.06905895 0.97273289 ... 0.52831231 0.48061261 0.62127336]\n",
      "  [0.07687548 0.51467931 0.0505457  ... 0.82603419 0.85907176 0.13463148]\n",
      "  [0.61285444 0.98381787 0.96916462 ... 0.68233637 0.42490346 0.98917103]\n",
      "  ...\n",
      "  [0.52789728 0.42880738 0.93469562 ... 0.17443234 0.94937775 0.81408715]\n",
      "  [0.75311644 0.10533617 0.81526227 ... 0.40268827 0.68876823 0.69447603]\n",
      "  [0.83870274 0.49647917 0.28098082 ... 0.8655356  0.40775961 0.45531679]]]\n"
     ]
    }
   ],
   "source": [
    "print(np.random.rand(26, 26, 32))"
   ]
  },
  {
   "cell_type": "code",
   "execution_count": 25,
   "metadata": {},
   "outputs": [
    {
     "name": "stderr",
     "output_type": "stream",
     "text": [
      "2022-02-16 17:24:27.517706: I tensorflow/core/profiler/lib/profiler_session.cc:136] Profiler session initializing.\n",
      "2022-02-16 17:24:27.517742: I tensorflow/core/profiler/lib/profiler_session.cc:155] Profiler session started.\n",
      "2022-02-16 17:24:27.517779: I tensorflow/core/profiler/lib/profiler_session.cc:172] Profiler session tear down.\n"
     ]
    }
   ],
   "source": [
    "d = datetime.datetime.today()\n",
    "timestamp = d.strftime('%Y%m%d_%H%M%S')\n",
    "tensorlog_folder = os.path.join(os.path.curdir, 'logs', timestamp)\n",
    "os.mkdir(tensorlog_folder)\n",
    "\n",
    "tensorboard = keras.callbacks.TensorBoard(log_dir=tensorlog_folder)"
   ]
  },
  {
   "cell_type": "code",
   "execution_count": 26,
   "metadata": {},
   "outputs": [
    {
     "name": "stdout",
     "output_type": "stream",
     "text": [
      "Epoch 1/3\n",
      "  3/938 [..............................] - ETA: 1:44 - loss: 2.2844 - accuracy: 0.1102"
     ]
    },
    {
     "name": "stderr",
     "output_type": "stream",
     "text": [
      "2022-02-16 17:24:29.035447: I tensorflow/core/profiler/lib/profiler_session.cc:136] Profiler session initializing.\n",
      "2022-02-16 17:24:29.035490: I tensorflow/core/profiler/lib/profiler_session.cc:155] Profiler session started.\n",
      "2022-02-16 17:24:29.149522: I tensorflow/core/profiler/lib/profiler_session.cc:71] Profiler session collecting data.\n",
      "2022-02-16 17:24:29.152656: I tensorflow/core/profiler/lib/profiler_session.cc:172] Profiler session tear down.\n",
      "2022-02-16 17:24:29.158263: I tensorflow/core/profiler/rpc/client/save_profile.cc:137] Creating directory: ./logs/20220216_172427/train/plugins/profile/2022_02_16_17_24_29\n",
      "2022-02-16 17:24:29.159657: I tensorflow/core/profiler/rpc/client/save_profile.cc:143] Dumped gzipped tool data for trace.json.gz to ./logs/20220216_172427/train/plugins/profile/2022_02_16_17_24_29/pop-os.trace.json.gz\n",
      "2022-02-16 17:24:29.172214: I tensorflow/core/profiler/rpc/client/save_profile.cc:137] Creating directory: ./logs/20220216_172427/train/plugins/profile/2022_02_16_17_24_29\n",
      "2022-02-16 17:24:29.172699: I tensorflow/core/profiler/rpc/client/save_profile.cc:143] Dumped gzipped tool data for memory_profile.json.gz to ./logs/20220216_172427/train/plugins/profile/2022_02_16_17_24_29/pop-os.memory_profile.json.gz\n",
      "2022-02-16 17:24:29.173041: I tensorflow/core/profiler/rpc/client/capture_profile.cc:251] Creating directory: ./logs/20220216_172427/train/plugins/profile/2022_02_16_17_24_29Dumped tool data for xplane.pb to ./logs/20220216_172427/train/plugins/profile/2022_02_16_17_24_29/pop-os.xplane.pb\n",
      "Dumped tool data for overview_page.pb to ./logs/20220216_172427/train/plugins/profile/2022_02_16_17_24_29/pop-os.overview_page.pb\n",
      "Dumped tool data for input_pipeline.pb to ./logs/20220216_172427/train/plugins/profile/2022_02_16_17_24_29/pop-os.input_pipeline.pb\n",
      "Dumped tool data for tensorflow_stats.pb to ./logs/20220216_172427/train/plugins/profile/2022_02_16_17_24_29/pop-os.tensorflow_stats.pb\n",
      "Dumped tool data for kernel_stats.pb to ./logs/20220216_172427/train/plugins/profile/2022_02_16_17_24_29/pop-os.kernel_stats.pb\n",
      "\n"
     ]
    },
    {
     "name": "stdout",
     "output_type": "stream",
     "text": [
      "938/938 [==============================] - 51s 53ms/step - loss: 0.3341 - accuracy: 0.8927\n",
      "Epoch 2/3\n",
      "938/938 [==============================] - 49s 52ms/step - loss: 0.0475 - accuracy: 0.9855\n",
      "Epoch 3/3\n",
      "938/938 [==============================] - 44s 47ms/step - loss: 0.0307 - accuracy: 0.9901\n"
     ]
    },
    {
     "data": {
      "text/plain": [
       "<tensorflow.python.keras.callbacks.History at 0x7f3b34174430>"
      ]
     },
     "execution_count": 26,
     "metadata": {},
     "output_type": "execute_result"
    }
   ],
   "source": [
    "(train_images, train_labels), (test_images, test_labels) = mnist.load_data() \n",
    "train_images = train_images.reshape((60000, 28, 28, 1)) \n",
    "train_images = train_images.astype(\"float32\") / 255 \n",
    "test_images = test_images.reshape((10000, 28, 28, 1)) \n",
    "test_images = test_images.astype(\"float32\") / 255 \n",
    "\n",
    "model.compile(optimizer=\"rmsprop\", loss=\"sparse_categorical_crossentropy\", metrics=[\"accuracy\"])\n",
    "\n",
    "model.fit(train_images, train_labels, epochs=3, batch_size=64, callbacks=[tensorboard])"
   ]
  },
  {
   "cell_type": "code",
   "execution_count": 27,
   "metadata": {},
   "outputs": [
    {
     "name": "stdout",
     "output_type": "stream",
     "text": [
      "313/313 [==============================] - 1s 3ms/step - loss: 0.0250 - accuracy: 0.9916\n",
      "test accuracy: 0.991599977016449\n"
     ]
    }
   ],
   "source": [
    "test_loss, test_acc = model.evaluate(test_images, test_labels)\n",
    "print(f\"test accuracy: {test_acc}\")"
   ]
  }
 ],
 "metadata": {
  "interpreter": {
   "hash": "fcacb1169d0317e97b762e0c1a317633c556cb59cb1017287d7e24b96b766e04"
  },
  "kernelspec": {
   "display_name": "Python 3.8.12 ('csi4106')",
   "language": "python",
   "name": "python3"
  },
  "language_info": {
   "codemirror_mode": {
    "name": "ipython",
    "version": 3
   },
   "file_extension": ".py",
   "mimetype": "text/x-python",
   "name": "python",
   "nbconvert_exporter": "python",
   "pygments_lexer": "ipython3",
   "version": "3.8.12"
  },
  "orig_nbformat": 4
 },
 "nbformat": 4,
 "nbformat_minor": 2
}
