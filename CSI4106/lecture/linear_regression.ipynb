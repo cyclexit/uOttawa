{
 "cells": [
  {
   "cell_type": "code",
   "execution_count": 1,
   "metadata": {},
   "outputs": [],
   "source": [
    "# Linear regression(multivariate)\n",
    "# identifying the problem -> predicting house prices\n",
    "import pandas as pd\n",
    "import numpy as np\n",
    "import matplotlib.pyplot as plt\n",
    "from sklearn.model_selection import train_test_split, StratifiedShuffleSplit, cross_val_score, GridSearchCV\n",
    "from sklearn.impute import SimpleImputer\n",
    "from sklearn.preprocessing import OrdinalEncoder, OneHotEncoder, StandardScaler\n",
    "from sklearn.pipeline import Pipeline\n",
    "from sklearn.compose import ColumnTransformer\n",
    "from sklearn.linear_model import LinearRegression\n",
    "from sklearn.metrics import mean_squared_error\n",
    "from sklearn.svm import SVR\n",
    "from sklearn.ensemble import RandomForestRegressor\n",
    "# making random initializations predictable\n",
    "np.random.seed(42)"
   ]
  },
  {
   "cell_type": "code",
   "execution_count": 2,
   "metadata": {},
   "outputs": [],
   "source": [
    "# load the housing dataset (please make sure that you have downloded the dataset to your local machine before running the following line)\n",
    "df = pd.read_csv('./data/housing.csv')"
   ]
  },
  {
   "cell_type": "code",
   "execution_count": 3,
   "metadata": {},
   "outputs": [
    {
     "name": "stdout",
     "output_type": "stream",
     "text": [
      "dataframe shape:\n",
      "(20640, 10)\n",
      "\n",
      "dataframe columns:\n",
      "Index(['longitude', 'latitude', 'housing_median_age', 'total_rooms',\n",
      "       'total_bedrooms', 'population', 'households', 'median_income',\n",
      "       'median_house_value', 'ocean_proximity'],\n",
      "      dtype='object')\n",
      "\n",
      "dataframe sample:\n",
      "   longitude  latitude  housing_median_age  total_rooms  total_bedrooms  \\\n",
      "0    -122.23     37.88                41.0        880.0           129.0   \n",
      "1    -122.22     37.86                21.0       7099.0          1106.0   \n",
      "2    -122.24     37.85                52.0       1467.0           190.0   \n",
      "3    -122.25     37.85                52.0       1274.0           235.0   \n",
      "4    -122.25     37.85                52.0       1627.0           280.0   \n",
      "\n",
      "   population  households  median_income  median_house_value ocean_proximity  \n",
      "0       322.0       126.0         8.3252            452600.0        NEAR BAY  \n",
      "1      2401.0      1138.0         8.3014            358500.0        NEAR BAY  \n",
      "2       496.0       177.0         7.2574            352100.0        NEAR BAY  \n",
      "3       558.0       219.0         5.6431            341300.0        NEAR BAY  \n",
      "4       565.0       259.0         3.8462            342200.0        NEAR BAY  \n",
      "\n"
     ]
    }
   ],
   "source": [
    "# Exploratory analysis\n",
    "print(f\"dataframe shape:\\n{df.shape}\\n\")\n",
    "print(f\"dataframe columns:\\n{df.columns}\\n\")\n",
    "print(f\"dataframe sample:\\n{df.head()}\\n\")"
   ]
  },
  {
   "cell_type": "code",
   "execution_count": 4,
   "metadata": {},
   "outputs": [
    {
     "name": "stdout",
     "output_type": "stream",
     "text": [
      "<class 'pandas.core.frame.DataFrame'>\n",
      "RangeIndex: 20640 entries, 0 to 20639\n",
      "Data columns (total 10 columns):\n",
      " #   Column              Non-Null Count  Dtype  \n",
      "---  ------              --------------  -----  \n",
      " 0   longitude           20640 non-null  float64\n",
      " 1   latitude            20640 non-null  float64\n",
      " 2   housing_median_age  20640 non-null  float64\n",
      " 3   total_rooms         20640 non-null  float64\n",
      " 4   total_bedrooms      20433 non-null  float64\n",
      " 5   population          20640 non-null  float64\n",
      " 6   households          20640 non-null  float64\n",
      " 7   median_income       20640 non-null  float64\n",
      " 8   median_house_value  20640 non-null  float64\n",
      " 9   ocean_proximity     20640 non-null  object \n",
      "dtypes: float64(9), object(1)\n",
      "memory usage: 1.6+ MB\n",
      "dataframe info:\n",
      "None\n",
      "\n"
     ]
    }
   ],
   "source": [
    "# Exploratory analysis\n",
    "# NOTE: instead of the data types, you will be able to see how much space the dataframe has taken in memory\n",
    "print(f\"dataframe info:\\n{df.info()}\\n\")"
   ]
  },
  {
   "cell_type": "code",
   "execution_count": 5,
   "metadata": {},
   "outputs": [
    {
     "name": "stdout",
     "output_type": "stream",
     "text": [
      "value counts:\n",
      "<1H OCEAN     9136\n",
      "INLAND        6551\n",
      "NEAR OCEAN    2658\n",
      "NEAR BAY      2290\n",
      "ISLAND           5\n",
      "Name: ocean_proximity, dtype: int64\n",
      "\n"
     ]
    }
   ],
   "source": [
    "# Exploratory analysis\n",
    "print(f\"value counts:\\n{df['ocean_proximity'].value_counts()}\\n\")"
   ]
  },
  {
   "cell_type": "code",
   "execution_count": 6,
   "metadata": {},
   "outputs": [
    {
     "name": "stdout",
     "output_type": "stream",
     "text": [
      "describe the dataset:\n",
      "          longitude      latitude  housing_median_age   total_rooms  \\\n",
      "count  20640.000000  20640.000000        20640.000000  20640.000000   \n",
      "mean    -119.569704     35.631861           28.639486   2635.763081   \n",
      "std        2.003532      2.135952           12.585558   2181.615252   \n",
      "min     -124.350000     32.540000            1.000000      2.000000   \n",
      "25%     -121.800000     33.930000           18.000000   1447.750000   \n",
      "50%     -118.490000     34.260000           29.000000   2127.000000   \n",
      "75%     -118.010000     37.710000           37.000000   3148.000000   \n",
      "max     -114.310000     41.950000           52.000000  39320.000000   \n",
      "\n",
      "       total_bedrooms    population    households  median_income  \\\n",
      "count    20433.000000  20640.000000  20640.000000   20640.000000   \n",
      "mean       537.870553   1425.476744    499.539680       3.870671   \n",
      "std        421.385070   1132.462122    382.329753       1.899822   \n",
      "min          1.000000      3.000000      1.000000       0.499900   \n",
      "25%        296.000000    787.000000    280.000000       2.563400   \n",
      "50%        435.000000   1166.000000    409.000000       3.534800   \n",
      "75%        647.000000   1725.000000    605.000000       4.743250   \n",
      "max       6445.000000  35682.000000   6082.000000      15.000100   \n",
      "\n",
      "       median_house_value  \n",
      "count        20640.000000  \n",
      "mean        206855.816909  \n",
      "std         115395.615874  \n",
      "min          14999.000000  \n",
      "25%         119600.000000  \n",
      "50%         179700.000000  \n",
      "75%         264725.000000  \n",
      "max         500001.000000  \n",
      "\n"
     ]
    }
   ],
   "source": [
    "# Exploratory analysis\n",
    "print(f\"describe the dataset:\\n{df.describe()}\\n\")"
   ]
  },
  {
   "cell_type": "code",
   "execution_count": 7,
   "metadata": {},
   "outputs": [
    {
     "data": {
      "image/png": "[encoded data removed]",
      "text/plain": [
       "<Figure size 576x360 with 1 Axes>"
      ]
     },
     "metadata": {
      "needs_background": "light"
     },
     "output_type": "display_data"
    }
   ],
   "source": [
    "# Exploratory analysis\n",
    "# plot(using a histogram) each column by seperating data into 50 bins\n",
    "df['median_income'].hist(bins=70, figsize=(8,5))\n",
    "plt.show()"
   ]
  },
  {
   "cell_type": "code",
   "execution_count": 8,
   "metadata": {},
   "outputs": [],
   "source": [
    "# one way to preparing your train and test data\n",
    "# NOTE: a random train/test split could introduce sample bias\n",
    "data_train, data_test = train_test_split(df, test_size=0.2, random_state=42)"
   ]
  },
  {
   "cell_type": "code",
   "execution_count": 9,
   "metadata": {},
   "outputs": [
    {
     "name": "stdout",
     "output_type": "stream",
     "text": [
      "          longitude      latitude  housing_median_age   total_rooms  \\\n",
      "count  20640.000000  20640.000000        20640.000000  20640.000000   \n",
      "mean    -119.569704     35.631861           28.639486   2635.763081   \n",
      "std        2.003532      2.135952           12.585558   2181.615252   \n",
      "min     -124.350000     32.540000            1.000000      2.000000   \n",
      "25%     -121.800000     33.930000           18.000000   1447.750000   \n",
      "50%     -118.490000     34.260000           29.000000   2127.000000   \n",
      "75%     -118.010000     37.710000           37.000000   3148.000000   \n",
      "max     -114.310000     41.950000           52.000000  39320.000000   \n",
      "\n",
      "       total_bedrooms    population    households  median_income  \\\n",
      "count    20433.000000  20640.000000  20640.000000   20640.000000   \n",
      "mean       537.870553   1425.476744    499.539680       3.870671   \n",
      "std        421.385070   1132.462122    382.329753       1.899822   \n",
      "min          1.000000      3.000000      1.000000       0.499900   \n",
      "25%        296.000000    787.000000    280.000000       2.563400   \n",
      "50%        435.000000   1166.000000    409.000000       3.534800   \n",
      "75%        647.000000   1725.000000    605.000000       4.743250   \n",
      "max       6445.000000  35682.000000   6082.000000      15.000100   \n",
      "\n",
      "       median_house_value  \n",
      "count        20640.000000  \n",
      "mean        206855.816909  \n",
      "std         115395.615874  \n",
      "min          14999.000000  \n",
      "25%         119600.000000  \n",
      "50%         179700.000000  \n",
      "75%         264725.000000  \n",
      "max         500001.000000  \n",
      "          longitude      latitude  housing_median_age   total_rooms  \\\n",
      "count  16512.000000  16512.000000        16512.000000  16512.000000   \n",
      "mean    -119.582290     35.643149           28.608285   2642.004784   \n",
      "std        2.005654      2.136665           12.602499   2174.646744   \n",
      "min     -124.350000     32.550000            1.000000      2.000000   \n",
      "25%     -121.810000     33.930000           18.000000   1454.000000   \n",
      "50%     -118.510000     34.260000           29.000000   2129.000000   \n",
      "75%     -118.010000     37.720000           37.000000   3160.000000   \n",
      "max     -114.310000     41.950000           52.000000  39320.000000   \n",
      "\n",
      "       total_bedrooms    population    households  median_income  \\\n",
      "count    16512.000000  16512.000000  16512.000000   16512.000000   \n",
      "mean       538.496851   1426.453004    499.986919       3.880754   \n",
      "std        419.007096   1137.056380    380.967964       1.904294   \n",
      "min          1.000000      3.000000      1.000000       0.499900   \n",
      "25%        296.750000    789.000000    280.000000       2.566700   \n",
      "50%        437.000000   1167.000000    410.000000       3.545800   \n",
      "75%        647.000000   1726.000000    606.000000       4.773175   \n",
      "max       6445.000000  35682.000000   6082.000000      15.000100   \n",
      "\n",
      "       median_house_value  \n",
      "count        16512.000000  \n",
      "mean        207194.693738  \n",
      "std         115622.626448  \n",
      "min          14999.000000  \n",
      "25%         119800.000000  \n",
      "50%         179850.000000  \n",
      "75%         265125.000000  \n",
      "max         500001.000000  \n",
      "   longitude  latitude  housing_median_age  total_rooms  total_bedrooms  \\\n",
      "0    -122.23     37.88                41.0        880.0           129.0   \n",
      "1    -122.22     37.86                21.0       7099.0          1106.0   \n",
      "2    -122.24     37.85                52.0       1467.0           190.0   \n",
      "3    -122.25     37.85                52.0       1274.0           235.0   \n",
      "4    -122.25     37.85                52.0       1627.0           280.0   \n",
      "\n",
      "   population  households  median_income  median_house_value ocean_proximity  \n",
      "0       322.0       126.0         8.3252            452600.0        NEAR BAY  \n",
      "1      2401.0      1138.0         8.3014            358500.0        NEAR BAY  \n",
      "2       496.0       177.0         7.2574            352100.0        NEAR BAY  \n",
      "3       558.0       219.0         5.6431            341300.0        NEAR BAY  \n",
      "4       565.0       259.0         3.8462            342200.0        NEAR BAY  \n"
     ]
    }
   ],
   "source": [
    "# the sampling bias is not that evident in this dataset\n",
    "print(df.describe())\n",
    "print(data_train.describe())\n",
    "print(df.head())"
   ]
  },
  {
   "cell_type": "code",
   "execution_count": 10,
   "metadata": {},
   "outputs": [
    {
     "name": "stdout",
     "output_type": "stream",
     "text": [
      "data split based on the income category:\n",
      "3    7236\n",
      "2    6581\n",
      "4    3639\n",
      "5    2362\n",
      "1     822\n",
      "Name: income_cat, dtype: int64\n"
     ]
    },
    {
     "data": {
      "text/plain": [
       "<AxesSubplot:>"
      ]
     },
     "execution_count": 10,
     "metadata": {},
     "output_type": "execute_result"
    },
    {
     "data": {
      "image/png": "[encoded data removed]",
      "text/plain": [
       "<Figure size 432x288 with 1 Axes>"
      ]
     },
     "metadata": {
      "needs_background": "light"
     },
     "output_type": "display_data"
    }
   ],
   "source": [
    "# preparing the data to be shuffled split\n",
    "# NOTE: for shuffle split, you need to identify a specific feature so that you can preserve the percentage in each sample\n",
    "# creating labels for each bin(e.g., 0 -> 1.5 = 1, 6.0 -> positive infinity = 5)\n",
    "df[\"income_cat\"] = pd.cut(df[\"median_income\"], bins=[0., 1.5, 3.0, 4.5, 6., np.inf], labels=[1, 2, 3, 4, 5])\n",
    "\n",
    "print(f\"data split based on the income category:\\n{df['income_cat'].value_counts()}\")\n",
    "\n",
    "# print histogram of the income categories\n",
    "df[\"income_cat\"].hist()"
   ]
  },
  {
   "cell_type": "code",
   "execution_count": 11,
   "metadata": {},
   "outputs": [
    {
     "name": "stdout",
     "output_type": "stream",
     "text": [
      "3    0.350533\n",
      "2    0.318798\n",
      "4    0.176357\n",
      "5    0.114341\n",
      "1    0.039971\n",
      "Name: income_cat, dtype: float64\n",
      "3    0.350581\n",
      "2    0.318847\n",
      "4    0.176308\n",
      "5    0.114438\n",
      "1    0.039826\n",
      "Name: income_cat, dtype: float64\n"
     ]
    }
   ],
   "source": [
    "# stratified(i.e., preserving the percentage of samples under each class) shuffle splitting the dataset\n",
    "split = StratifiedShuffleSplit(n_splits=1, test_size=0.2, random_state=42)\n",
    "for train_index, test_index in split.split(df, df[\"income_cat\"]):\n",
    "    strat_train_set = df.loc[train_index]\n",
    "    strat_test_set = df.loc[test_index]\n",
    "\n",
    "# to make sure that we have preserved the categorical feature distribution in the test dataset compared to the original dataset\n",
    "print(strat_test_set[\"income_cat\"].value_counts() / len(strat_test_set))\n",
    "print(df[\"income_cat\"].value_counts() / len(df))\n",
    "\n",
    "# drop the categorical feature as we do not need it anymore\n",
    "for set_ in (strat_train_set, strat_test_set):\n",
    "    set_.drop(\"income_cat\", axis=1, inplace=True)"
   ]
  },
  {
   "cell_type": "code",
   "execution_count": 12,
   "metadata": {},
   "outputs": [
    {
     "name": "stdout",
     "output_type": "stream",
     "text": [
      "median_income         1.000000\n",
      "median_house_value    0.688075\n",
      "total_rooms           0.198050\n",
      "households            0.013033\n",
      "population            0.004834\n",
      "total_bedrooms       -0.007723\n",
      "longitude            -0.015176\n",
      "latitude             -0.079809\n",
      "housing_median_age   -0.119034\n",
      "Name: median_income, dtype: float64\n"
     ]
    }
   ],
   "source": [
    "# identifying the correlation between features\n",
    "# NOTE: if certain features are highly correlated, you can drop one of the correlated features to reduce the dimensionality of the feature space\n",
    "corr_matrix = df.corr()\n",
    "# print(corr_matrix)\n",
    "print(corr_matrix['median_income'].sort_values(ascending=False))"
   ]
  },
  {
   "cell_type": "markdown",
   "metadata": {},
   "source": [
    "#### Model Development"
   ]
  },
  {
   "cell_type": "code",
   "execution_count": 13,
   "metadata": {},
   "outputs": [],
   "source": [
    "# model development\n",
    "# prepare the data\n",
    "# drop label column(axis=1) from the training dataset\n",
    "# remember that dataframes are mutable(i.e., reason for using .copy())\n",
    "data = strat_train_set.drop(\"median_house_value\", axis=1) \n",
    "labels = strat_train_set[\"median_house_value\"].copy()"
   ]
  },
  {
   "cell_type": "code",
   "execution_count": 14,
   "metadata": {},
   "outputs": [
    {
     "name": "stdout",
     "output_type": "stream",
     "text": [
      "       longitude  latitude  housing_median_age  total_rooms  total_bedrooms  \\\n",
      "1606     -122.08     37.88                26.0       2947.0             NaN   \n",
      "10915    -117.87     33.73                45.0       2264.0             NaN   \n",
      "19150    -122.70     38.35                14.0       2313.0             NaN   \n",
      "4186     -118.23     34.13                48.0       1308.0             NaN   \n",
      "16885    -122.40     37.58                26.0       3281.0             NaN   \n",
      "\n",
      "       population  households  median_income ocean_proximity  \n",
      "1606        825.0       626.0         2.9330        NEAR BAY  \n",
      "10915      1970.0       499.0         3.4193       <1H OCEAN  \n",
      "19150       954.0       397.0         3.7813       <1H OCEAN  \n",
      "4186        835.0       294.0         4.2891       <1H OCEAN  \n",
      "16885      1145.0       480.0         6.3580      NEAR OCEAN  \n",
      "(5, 9)\n"
     ]
    }
   ],
   "source": [
    "# check to see if there are any missing data\n",
    "# This is VERY IMPORTANT!\n",
    "sample_incomplete_rows = data[data.isnull().any(axis=1)].head()\n",
    "print(sample_incomplete_rows)\n",
    "print(sample_incomplete_rows.shape)"
   ]
  },
  {
   "cell_type": "code",
   "execution_count": 15,
   "metadata": {},
   "outputs": [
    {
     "name": "stdout",
     "output_type": "stream",
     "text": [
      "(16512, 9)\n",
      "(16512, 8)\n",
      "[-118.51      34.26      29.      2119.       433.      1164.\n",
      "  408.         3.54155]\n",
      "[-118.51      34.26      29.      2119.       433.      1164.\n",
      "  408.         3.54155]\n"
     ]
    }
   ],
   "source": [
    "# using the sklearn imputer to fill missing values\n",
    "# getting the median of the feature to complete the missing values\n",
    "imputer = SimpleImputer(strategy=\"median\")\n",
    "# because the median is calculated on numerical data, we need to drop categorical features from the dataframe\n",
    "housing_num = data.drop(\"ocean_proximity\", axis=1)\n",
    "print(data.shape)\n",
    "print(housing_num.shape)\n",
    "# fitting the data on the imputer so that it can apply the required statistical function on the training data\n",
    "imputer.fit(housing_num)\n",
    "# printing the calculated statistical measurements\n",
    "print(imputer.statistics_)\n",
    "# for comparison, calculate the statistical measurements on the training dataset without using the imputer\n",
    "print(housing_num.median().values)"
   ]
  },
  {
   "cell_type": "code",
   "execution_count": 16,
   "metadata": {},
   "outputs": [
    {
     "name": "stdout",
     "output_type": "stream",
     "text": [
      "(16512, 8)\n",
      "<class 'numpy.ndarray'>\n",
      "       longitude  latitude  housing_median_age  total_rooms  total_bedrooms  \\\n",
      "1606     -122.08     37.88                26.0       2947.0           433.0   \n",
      "10915    -117.87     33.73                45.0       2264.0           433.0   \n",
      "19150    -122.70     38.35                14.0       2313.0           433.0   \n",
      "4186     -118.23     34.13                48.0       1308.0           433.0   \n",
      "16885    -122.40     37.58                26.0       3281.0           433.0   \n",
      "\n",
      "       population  households  median_income  \n",
      "1606        825.0       626.0         2.9330  \n",
      "10915      1970.0       499.0         3.4193  \n",
      "19150       954.0       397.0         3.7813  \n",
      "4186        835.0       294.0         4.2891  \n",
      "16885      1145.0       480.0         6.3580  \n",
      "       longitude  latitude  housing_median_age  total_rooms  total_bedrooms  \\\n",
      "12655    -121.46     38.52                29.0       3873.0           797.0   \n",
      "15502    -117.23     33.09                 7.0       5320.0           855.0   \n",
      "2908     -119.04     35.37                44.0       1618.0           310.0   \n",
      "14053    -117.13     32.75                24.0       1877.0           519.0   \n",
      "20496    -118.70     34.28                27.0       3536.0           646.0   \n",
      "\n",
      "       population  households  median_income  \n",
      "12655      2237.0       706.0         2.1736  \n",
      "15502      2015.0       768.0         6.3373  \n",
      "2908        667.0       300.0         2.8750  \n",
      "14053       898.0       483.0         2.2264  \n",
      "20496      1837.0       580.0         4.4964  \n"
     ]
    }
   ],
   "source": [
    "# transform the dataset to have the computed median\n",
    "input_x = imputer.transform(housing_num)\n",
    "print(input_x.shape)\n",
    "print(type(input_x))\n",
    "\n",
    "# creating the dataframe from the 2D numpy array\n",
    "housing_train = pd.DataFrame(input_x, columns=housing_num.columns, index=housing_num.index)\n",
    "\n",
    "# see what is imputed into the missing value cells\n",
    "print(housing_train.loc[sample_incomplete_rows.index.values])\n",
    "\n",
    "print(housing_train.head())"
   ]
  },
  {
   "cell_type": "code",
   "execution_count": 18,
   "metadata": {},
   "outputs": [
    {
     "name": "stdout",
     "output_type": "stream",
     "text": [
      "      ocean_proximity\n",
      "12655          INLAND\n",
      "15502      NEAR OCEAN\n",
      "2908           INLAND\n",
      "14053      NEAR OCEAN\n",
      "20496       <1H OCEAN\n",
      "1481         NEAR BAY\n",
      "18125       <1H OCEAN\n",
      "5830        <1H OCEAN\n",
      "17989       <1H OCEAN\n",
      "4861        <1H OCEAN\n",
      "ocean_proximity\n",
      "<1H OCEAN          7277\n",
      "INLAND             5262\n",
      "NEAR OCEAN         2124\n",
      "NEAR BAY           1847\n",
      "ISLAND                2\n",
      "dtype: int64\n",
      "\n",
      "Encoded housing categories\n",
      "[[1.]\n",
      " [4.]\n",
      " [1.]\n",
      " [4.]\n",
      " [0.]\n",
      " [3.]\n",
      " [0.]\n",
      " [0.]\n",
      " [0.]\n",
      " [0.]]\n",
      "[array(['<1H OCEAN', 'INLAND', 'ISLAND', 'NEAR BAY', 'NEAR OCEAN'],\n",
      "      dtype=object)]\n"
     ]
    }
   ],
   "source": [
    "# what are Ordinal Variables: \n",
    "# limited number of distinct values with a ranked ordering\n",
    "housing_cat = data[[\"ocean_proximity\"]]\n",
    "print(housing_cat.head(10))\n",
    "print(housing_cat.value_counts())\n",
    "\n",
    "# encoding the categorical features\n",
    "ordinal_encoder = OrdinalEncoder()\n",
    "# NOTE: fitting and transforming data in a single step\n",
    "housing_cat_encoded = ordinal_encoder.fit_transform(housing_cat)\n",
    "print(\"\\nEncoded housing categories\")\n",
    "print(housing_cat_encoded[:10])\n",
    "print(ordinal_encoder.categories_)\n",
    "\n",
    "# NOTE: ML algorithms will misinterpret if variable is encoded into an Ordinal feature\n",
    "# NOTE: Certain algorithms such as decision trees and random forests can work with such encoded data"
   ]
  },
  {
   "cell_type": "code",
   "execution_count": 19,
   "metadata": {},
   "outputs": [
    {
     "name": "stdout",
     "output_type": "stream",
     "text": [
      "      ocean_proximity\n",
      "12655          INLAND\n",
      "15502      NEAR OCEAN\n",
      "2908           INLAND\n",
      "14053      NEAR OCEAN\n",
      "20496       <1H OCEAN\n",
      "...               ...\n",
      "15174       <1H OCEAN\n",
      "12661          INLAND\n",
      "19263       <1H OCEAN\n",
      "19140       <1H OCEAN\n",
      "19773          INLAND\n",
      "\n",
      "[16512 rows x 1 columns]\n",
      "[[0. 1. 0. 0. 0.]\n",
      " [0. 0. 0. 0. 1.]\n",
      " [0. 1. 0. 0. 0.]\n",
      " ...\n",
      " [1. 0. 0. 0. 0.]\n",
      " [1. 0. 0. 0. 0.]\n",
      " [0. 1. 0. 0. 0.]]\n",
      "[array(['<1H OCEAN', 'INLAND', 'ISLAND', 'NEAR BAY', 'NEAR OCEAN'],\n",
      "      dtype=object)]\n"
     ]
    }
   ],
   "source": [
    "# NOTE: to overcome the limitations with the OrdinalEncoder, we use one-hot encoding\n",
    "cat_encoder = OneHotEncoder(sparse=False)\n",
    "housing_cat_1hot = cat_encoder.fit_transform(housing_cat)\n",
    "print(housing_cat)\n",
    "print(housing_cat_1hot)\n",
    "print(cat_encoder.categories_)"
   ]
  },
  {
   "cell_type": "code",
   "execution_count": 20,
   "metadata": {},
   "outputs": [
    {
     "name": "stdout",
     "output_type": "stream",
     "text": [
      "[[-0.94135046  1.34743822  0.02756357 ...  0.          0.\n",
      "   0.        ]\n",
      " [ 1.17178212 -1.19243966 -1.72201763 ...  0.          0.\n",
      "   1.        ]\n",
      " [ 0.26758118 -0.1259716   1.22045984 ...  0.          0.\n",
      "   0.        ]\n",
      " ...\n",
      " [-1.5707942   1.31001828  1.53856552 ...  0.          0.\n",
      "   0.        ]\n",
      " [-1.56080303  1.2492109  -1.1653327  ...  0.          0.\n",
      "   0.        ]\n",
      " [-1.28105026  2.02567448 -0.13148926 ...  0.          0.\n",
      "   0.        ]]\n"
     ]
    }
   ],
   "source": [
    "# creating a pipeline so that you can chain together multiple steps\n",
    "# NOTE: remember that the output from one step will be an inout to the other\n",
    "# you can do these steps seperately and combine but Pipelines are more efficient\n",
    "num_pipeline = Pipeline([\n",
    "        ('imputer', SimpleImputer(strategy=\"median\")),\n",
    "        ('std_scaler', StandardScaler()),\n",
    "    ])\n",
    "\n",
    "num_attribs = list(housing_num)\n",
    "cat_attribs = [\"ocean_proximity\"]\n",
    "\n",
    "# will be applying tranasformer object to the given subset of data\n",
    "# NOTE: e.g., the \"num_pipeline\" transformer object will be applied on the given set of columns\n",
    "full_pipeline = ColumnTransformer([\n",
    "        (\"num\", num_pipeline, num_attribs),\n",
    "        (\"cat\", OneHotEncoder(), cat_attribs),\n",
    "    ])\n",
    "\n",
    " # sending the data through a chain of transformations\n",
    " # NOTE: the final dataset is a 2D numpy array containg all numerical data\n",
    "housing_prepared = full_pipeline.fit_transform(data)\n",
    "print(housing_prepared)"
   ]
  },
  {
   "cell_type": "code",
   "execution_count": 21,
   "metadata": {},
   "outputs": [
    {
     "name": "stdout",
     "output_type": "stream",
     "text": [
      "Predictions: [ 88983.14806384 305351.35385026 153334.71183453 184302.55162102\n",
      " 246840.18988841]\n",
      "Actual Labels: [72100.0, 279600.0, 82700.0, 112500.0, 238300.0]\n"
     ]
    }
   ],
   "source": [
    "# training a linear regression model\n",
    "# NOTE: n_jobs -> number of processors to use for the computation (-1: indicates all the processors)\n",
    "lin_reg = LinearRegression(n_jobs=-1)\n",
    "\n",
    "# NOTE: we are using the transformed training data(housing_prepared) when training the model\n",
    "lin_reg.fit(housing_prepared, labels)\n",
    "some_data = data.iloc[:5]\n",
    "some_labels = labels.iloc[:5]\n",
    "\n",
    "# remember only to transform the data when preparing data for prediction\n",
    "some_data_prepared = full_pipeline.transform(some_data)\n",
    "\n",
    "print(\"Predictions:\", lin_reg.predict(some_data_prepared))\n",
    "print(\"Actual Labels:\", list(some_labels))"
   ]
  },
  {
   "cell_type": "code",
   "execution_count": 21,
   "metadata": {},
   "outputs": [
    {
     "name": "stdout",
     "output_type": "stream",
     "text": [
      "69050.56219504567\n"
     ]
    }
   ],
   "source": [
    "# using the trained model to predict on the same training dataset\n",
    "housing_predictions = lin_reg.predict(housing_prepared)\n",
    "\n",
    "# calculating the root mean squared error \n",
    "lin_rmse = mean_squared_error(labels, housing_predictions, squared=False)\n",
    "print(lin_rmse)\n",
    "\n",
    "# NOTE: the error indicates that the model is underfitting the training data\n",
    "# NOTE: can train a more powerful model or train the model with more informative features"
   ]
  },
  {
   "cell_type": "code",
   "execution_count": 22,
   "metadata": {},
   "outputs": [
    {
     "name": "stdout",
     "output_type": "stream",
     "text": [
      "0.0\n"
     ]
    }
   ],
   "source": [
    "# using a more powerful model to do the prediction\n",
    "rf_reg = RandomForestRegressor(n_estimators=100, bootstrap=False, n_jobs=-1)\n",
    "rf_reg.fit(housing_prepared, labels)\n",
    "housing_predictions = rf_reg.predict(housing_prepared)\n",
    "rf_rmse = mean_squared_error(labels, housing_predictions, squared=False)\n",
    "print(rf_rmse)\n",
    "# train the model with different number of estimators\n",
    "# 200 -> 18223\n",
    "# 100 -> 18479\n",
    "# 50 -> 18657\n",
    "# 300 -> 18105\n",
    "# bootstrap: True / False"
   ]
  },
  {
   "cell_type": "code",
   "execution_count": 23,
   "metadata": {},
   "outputs": [
    {
     "name": "stdout",
     "output_type": "stream",
     "text": [
      "[68339.92295331 67156.07654823 62064.62003594 66117.75215646\n",
      " 65475.64448385 65474.97795973 69529.7775402  66773.17062738\n",
      " 64639.64207895 68726.99687587]\n",
      "Mean: 66429.85812599148\n",
      "STD: 2082.303007407338\n"
     ]
    }
   ],
   "source": [
    "# how to idnetify a well generalized model\n",
    "model = RandomForestRegressor(n_estimators=100, bootstrap=False, n_jobs=-1)\n",
    "# model = SVR()\n",
    "# model = LinearRegression(n_jobs=-1)\n",
    "# NOTE: the number of folds to choose depends on the dataset size\n",
    "# NOTE: becuase the metric has to be maximized we use \"neg_mean_squared_error\"\n",
    "scores = cross_val_score(model, housing_prepared, labels, scoring=\"neg_mean_squared_error\", cv=10, n_jobs=-1)\n",
    "rmse = np.sqrt(-scores)\n",
    "print(rmse)\n",
    "print(f\"Mean: {np.mean(rmse)}\")\n",
    "print(f\"STD: {np.std(rmse)}\")"
   ]
  },
  {
   "cell_type": "code",
   "execution_count": 24,
   "metadata": {},
   "outputs": [
    {
     "name": "stdout",
     "output_type": "stream",
     "text": [
      "66263.32189428688\n"
     ]
    }
   ],
   "source": [
    "# test the model on test data\n",
    "x_test = strat_test_set.drop(\"median_house_value\", axis=1)\n",
    "y_test = strat_test_set[\"median_house_value\"].copy()\n",
    "\n",
    "x_test_prepared = full_pipeline.transform(x_test)\n",
    "final_predictions = rf_reg.predict(x_test_prepared)\n",
    "\n",
    "rf_test_rmse = mean_squared_error(y_test, final_predictions, squared=False)\n",
    "print(rf_test_rmse)"
   ]
  },
  {
   "cell_type": "markdown",
   "metadata": {},
   "source": [
    "#### Hyperparameter Tuning"
   ]
  },
  {
   "cell_type": "code",
   "execution_count": 25,
   "metadata": {},
   "outputs": [
    {
     "name": "stdout",
     "output_type": "stream",
     "text": [
      "{'n_estimators': 300}\n",
      "RandomForestRegressor(n_estimators=300, n_jobs=-1, random_state=42)\n",
      "{'n_estimators': 100}\n",
      "49947.52967876522\n",
      "{'n_estimators': 200}\n",
      "49729.12139602256\n",
      "{'n_estimators': 300}\n",
      "49637.81989751094\n",
      "{'bootstrap': False, 'n_estimators': 100}\n",
      "67272.12382719346\n",
      "{'bootstrap': False, 'n_estimators': 200}\n",
      "67280.55989713506\n",
      "{'bootstrap': False, 'n_estimators': 300}\n",
      "67269.60679726377\n",
      "\n",
      "test_error = 47049.48654975903\n",
      "train_error = 18064.80993984425\n"
     ]
    }
   ],
   "source": [
    "# Using sklearn GridSearchCV for hyperparameter tuning\n",
    "# initialize the model\n",
    "model = RandomForestRegressor(random_state=42, n_jobs=-1)\n",
    "# specify the parameter combinations to be tested\n",
    "parameters = [\n",
    "    {'n_estimators': [100, 200, 300]},\n",
    "    {'bootstrap': [False], 'n_estimators': [100, 200, 300]}\n",
    "]\n",
    "\n",
    "# NOTE: becuase the metric has to be maximized we use \"neg_mean_squared_error\"\n",
    "grid_search = GridSearchCV(model, parameters, cv=5, scoring='neg_mean_squared_error', return_train_score=True, n_jobs=-1)\n",
    "grid_search.fit(housing_prepared, labels)\n",
    "\n",
    "# print the best parameters\n",
    "print(grid_search.best_params_)\n",
    "# the best estimator\n",
    "print(grid_search.best_estimator_)\n",
    "# can also get the best results for each run with different feature combinations\n",
    "cross_val_results = grid_search.cv_results_\n",
    "\n",
    "cvscr = grid_search.cv_results_\n",
    "for mean_score, params in zip(cross_val_results['mean_test_score'], cross_val_results['params']):\n",
    "    print(params)\n",
    "    print(np.sqrt(-mean_score))\n",
    "\n",
    "print()\n",
    "# NOTE: if you are not clear about the possible hyperparameter values to be searched, you can use RandomizedSearchCV to randomly search for the best hyperparameters(i.e., from the distributions) given the number of iterations\n",
    "# e.g., \n",
    "# random_search = RandomizedSearchCV(model, distributions, n_iter=500, scoring='neg_mean_absolute_error', cv=5, n_jobs=-1, random_state=42)\n",
    "\n",
    "# because refit=True in the default settings the best model will be trained on the entire dataset and the trained model can be used to do the predictions on the test dataset\n",
    "predictions_test = grid_search.best_estimator_.predict(x_test_prepared)\n",
    "test_error = mean_squared_error(y_test, predictions_test, squared=False)\n",
    "print(\"test_error =\", test_error)\n",
    "\n",
    "predictions_train = grid_search.best_estimator_.predict(housing_prepared)\n",
    "train_error = mean_squared_error(labels, predictions_train, squared=False)\n",
    "print(\"train_error =\", train_error)"
   ]
  },
  {
   "cell_type": "code",
   "execution_count": 26,
   "metadata": {},
   "outputs": [
    {
     "name": "stdout",
     "output_type": "stream",
     "text": [
      "49947.52967876522\n",
      "49729.12139602256\n",
      "49637.81989751094\n",
      "67272.12382719346\n",
      "67280.55989713506\n",
      "67269.60679726377\n"
     ]
    }
   ],
   "source": [
    "cvscr = grid_search.cv_results_\n",
    "for mean_score, params in zip(cvscr['mean_test_score'], cvscr['params']):\n",
    "    print(np.sqrt(-mean_score))\n"
   ]
  },
  {
   "cell_type": "markdown",
   "metadata": {},
   "source": [
    "RandomForestRegressor(n_estimators=300, n_jobs=-1, random_state=42)\n",
    "[481595.27666667 212161.71666667 206602.33333333 ... 343622.14333333\n",
    " 310300.06333333 223952.33333333]\n",
    "47049.48654975903"
   ]
  }
 ],
 "metadata": {
  "interpreter": {
   "hash": "fcacb1169d0317e97b762e0c1a317633c556cb59cb1017287d7e24b96b766e04"
  },
  "kernelspec": {
   "display_name": "Python 3.8.12 64-bit ('csi4106': conda)",
   "language": "python",
   "name": "python3"
  },
  "language_info": {
   "codemirror_mode": {
    "name": "ipython",
    "version": 3
   },
   "file_extension": ".py",
   "mimetype": "text/x-python",
   "name": "python",
   "nbconvert_exporter": "python",
   "pygments_lexer": "ipython3",
   "version": "3.9.7"
  },
  "orig_nbformat": 4
 },
 "nbformat": 4,
 "nbformat_minor": 2
}
